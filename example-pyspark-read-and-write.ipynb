{
 "cells": [
  {
   "cell_type": "code",
   "execution_count": 1,
   "metadata": {
    "collapsed": false,
    "deletable": true,
    "editable": true
   },
   "outputs": [],
   "source": [
    "import os\n",
    "import csv\n",
    "\n",
    "from pyspark import SparkContext, SparkConf\n",
    "from pyspark.sql import SparkSession, HiveContext"
   ]
  },
  {
   "cell_type": "code",
   "execution_count": 2,
   "metadata": {
    "collapsed": false,
    "deletable": true,
    "editable": true
   },
   "outputs": [],
   "source": [
    "os.environ[\"HADOOP_USER_NAME\"] = \"hdfs\"\n",
    "os.environ[\"PYTHON_VERSION\"] = \"3.5.2\""
   ]
  },
  {
   "cell_type": "markdown",
   "metadata": {
    "deletable": true,
    "editable": true
   },
   "source": [
    "# Read & Write with HDFS"
   ]
  },
  {
   "cell_type": "code",
   "execution_count": 3,
   "metadata": {
    "collapsed": false,
    "deletable": true,
    "editable": true
   },
   "outputs": [],
   "source": [
    "sc = SparkContext()"
   ]
  },
  {
   "cell_type": "code",
   "execution_count": 4,
   "metadata": {
    "collapsed": false,
    "deletable": true,
    "editable": true
   },
   "outputs": [],
   "source": [
    "data = [1, 2, 3, 4, 5]\n",
    "distData = sc.parallelize(data)"
   ]
  },
  {
   "cell_type": "code",
   "execution_count": 5,
   "metadata": {
    "collapsed": false,
    "deletable": true,
    "editable": true
   },
   "outputs": [
    {
     "data": {
      "text/plain": [
       "'(GAVIN,9)'"
      ]
     },
     "execution_count": 5,
     "metadata": {},
     "output_type": "execute_result"
    }
   ],
   "source": [
    "# Read from hdfs\n",
    "textFile = sc.textFile(\"hdfs://cluster/user/hdfs/test/results1.csv\")\n",
    "textFile.first()"
   ]
  },
  {
   "cell_type": "code",
   "execution_count": null,
   "metadata": {
    "collapsed": false,
    "deletable": true,
    "editable": true
   },
   "outputs": [],
   "source": [
    "# Write with hdfs\n",
    "distData.saveAsTextFile(\"hdfs://cluster/user/hdfs/test/distData.csv\")"
   ]
  },
  {
   "cell_type": "markdown",
   "metadata": {
    "deletable": true,
    "editable": true
   },
   "source": [
    "# Read & Write with Hive"
   ]
  },
  {
   "cell_type": "code",
   "execution_count": 6,
   "metadata": {
    "collapsed": false,
    "deletable": true,
    "editable": true
   },
   "outputs": [],
   "source": [
    "SparkContext.setSystemProperty(\"hive.metastore.uris\", \"thrift://nn1:9083\")\n",
    "spark = SparkSession.builder.enableHiveSupport().getOrCreate()"
   ]
  },
  {
   "cell_type": "code",
   "execution_count": 7,
   "metadata": {
    "collapsed": false,
    "deletable": true,
    "editable": true
   },
   "outputs": [
    {
     "name": "stdout",
     "output_type": "stream",
     "text": [
      "+--------+-------------+-----------+\n",
      "|database|    tableName|isTemporary|\n",
      "+--------+-------------+-----------+\n",
      "| default|  earthquakes|      false|\n",
      "| default|         test|      false|\n",
      "| default| test_titanic|      false|\n",
      "| default|train_titanic|      false|\n",
      "+--------+-------------+-----------+\n",
      "\n"
     ]
    }
   ],
   "source": [
    "hive_context = HiveContext(spark)\n",
    "hive_context.sql(\"show tables\").show()"
   ]
  },
  {
   "cell_type": "markdown",
   "metadata": {
    "deletable": true,
    "editable": true
   },
   "source": [
    "# Other tests"
   ]
  },
  {
   "cell_type": "code",
   "execution_count": 8,
   "metadata": {
    "collapsed": false,
    "deletable": true,
    "editable": true
   },
   "outputs": [
    {
     "name": "stdout",
     "output_type": "stream",
     "text": [
      "+--------------------+----------+----------+\n",
      "|             address|first_name| last_name|\n",
      "+--------------------+----------+----------+\n",
      "|[New Orleans,LA,6...|     James|Butterburg|\n",
      "|[Brighton,MI,4 B ...| Josephine|   Darakjy|\n",
      "|[Bridgeport,NJ,8 ...|       Art|    Chemel|\n",
      "+--------------------+----------+----------+\n",
      "\n"
     ]
    }
   ],
   "source": [
    "# spark is an existing SparkSession\n",
    "df = spark.read.json(\"hdfs://cluster/user/hdfs/test/customers_example.json\")\n",
    "# Displays the content of the DataFrame to stdout\n",
    "df.show()"
   ]
  },
  {
   "cell_type": "code",
   "execution_count": 9,
   "metadata": {
    "collapsed": false,
    "deletable": true,
    "editable": true
   },
   "outputs": [],
   "source": [
    "# lien xml\n",
    "df = spark.read.format(\"hdfs://cluster/user/hdfs/test/books.xml\")"
   ]
  },
  {
   "cell_type": "markdown",
   "metadata": {
    "deletable": true,
    "editable": true
   },
   "source": [
    "# Transformations and Actions\n",
    "On Spark being lazy or not"
   ]
  },
  {
   "cell_type": "code",
   "execution_count": 10,
   "metadata": {
    "collapsed": false,
    "deletable": true,
    "editable": true
   },
   "outputs": [
    {
     "data": {
      "text/plain": [
       "'Annee,Region,id_departement,Departement,Distributeurs,Importateurs,Producteurs,Preparateurs'"
      ]
     },
     "execution_count": 10,
     "metadata": {},
     "output_type": "execute_result"
    }
   ],
   "source": [
    "# Read from hdfs\n",
    "textFile = sc.textFile(\"hdfs://cluster/user/hdfs/test/bio-2008-2011.csv\")\n",
    "textFile.first()"
   ]
  },
  {
   "cell_type": "code",
   "execution_count": 11,
   "metadata": {
    "collapsed": false,
    "deletable": true,
    "editable": true
   },
   "outputs": [
    {
     "data": {
      "text/plain": [
       "401"
      ]
     },
     "execution_count": 11,
     "metadata": {},
     "output_type": "execute_result"
    }
   ],
   "source": [
    "# Action : count lines\n",
    "textFile.count()"
   ]
  },
  {
   "cell_type": "code",
   "execution_count": 12,
   "metadata": {
    "collapsed": false,
    "deletable": true,
    "editable": true
   },
   "outputs": [],
   "source": [
    "# transformation (lazy): read the file as csv\n",
    "rdd = textFile.mapPartitions(lambda x: csv.reader(x))"
   ]
  },
  {
   "cell_type": "code",
   "execution_count": 13,
   "metadata": {
    "collapsed": false,
    "deletable": true,
    "editable": true
   },
   "outputs": [
    {
     "data": {
      "text/plain": [
       "[['Annee',\n",
       "  'Region',\n",
       "  'id_departement',\n",
       "  'Departement',\n",
       "  'Distributeurs',\n",
       "  'Importateurs',\n",
       "  'Producteurs',\n",
       "  'Preparateurs'],\n",
       " ['2008', 'ALSACE', '67', 'BAS-RHIN', '38', 's', '152', '96'],\n",
       " ['2008', 'ALSACE', '68', 'HAUT-RHIN', '25', 's', '226', '76'],\n",
       " ['2008', 'AQUITAINE', '24', 'DORDOGNE', '15', 's', '257', '62'],\n",
       " ['2008', 'AQUITAINE', '33', 'GIRONDE', '41', 's', '261', '124'],\n",
       " ['2008', 'AQUITAINE', '40', 'LANDES', '15', 's', '108', '48'],\n",
       " ['2008', 'AQUITAINE', '47', 'LOT-ET-GARONNE', '20', '3', '299', '52'],\n",
       " ['2008', 'AQUITAINE', '64', 'PYRENEES-ATLANTIQUES', '17', '3', '199', '60'],\n",
       " ['2008', 'AUVERGNE', '3', 'ALLIER', '12', '', '129', '42'],\n",
       " ['2008', 'AUVERGNE', '15', 'CANTAL', '7', '', '77', '16']]"
      ]
     },
     "execution_count": 13,
     "metadata": {},
     "output_type": "execute_result"
    }
   ],
   "source": [
    "# action : display first line\n",
    "rdd.take(10)"
   ]
  },
  {
   "cell_type": "code",
   "execution_count": 14,
   "metadata": {
    "collapsed": false,
    "deletable": true,
    "editable": true
   },
   "outputs": [
    {
     "data": {
      "text/plain": [
       "[['2008', 'ALSACE', '67', 'BAS-RHIN', '38', 's', '152', '96'],\n",
       " ['2008', 'ALSACE', '68', 'HAUT-RHIN', '25', 's', '226', '76'],\n",
       " ['2009', 'ALSACE', '67', 'BAS-RHIN', '53', 's', '183', '112'],\n",
       " ['2009', 'ALSACE', '68', 'HAUT-RHIN', '31', 's', '244', '85'],\n",
       " ['2010', 'ALSACE', '67', 'BAS-RHIN', '72', '3', '216', '107'],\n",
       " ['2010', 'ALSACE', '68', 'HAUT-RHIN', '40', 's', '272', '86'],\n",
       " ['2011', 'ALSACE', '67', 'BAS-RHIN', '73', 's', '236', '147'],\n",
       " ['2011', 'ALSACE', '68', 'HAUT-RHIN', '60', '', '300', '102']]"
      ]
     },
     "execution_count": 14,
     "metadata": {},
     "output_type": "execute_result"
    }
   ],
   "source": [
    "rdd.filter(lambda x : x[1] == 'ALSACE').take(10)"
   ]
  },
  {
   "cell_type": "code",
   "execution_count": 15,
   "metadata": {
    "collapsed": false,
    "deletable": true,
    "editable": true
   },
   "outputs": [
    {
     "data": {
      "text/plain": [
       "[('Annee',\n",
       "  ['Region',\n",
       "   'id_departement',\n",
       "   'Departement',\n",
       "   'Distributeurs',\n",
       "   'Importateurs',\n",
       "   'Producteurs']),\n",
       " ('2008', ['ALSACE', '67', 'BAS-RHIN', '38', 's', '152']),\n",
       " ('2008', ['ALSACE', '68', 'HAUT-RHIN', '25', 's', '226']),\n",
       " ('2008', ['AQUITAINE', '24', 'DORDOGNE', '15', 's', '257']),\n",
       " ('2008', ['AQUITAINE', '33', 'GIRONDE', '41', 's', '261']),\n",
       " ('2008', ['AQUITAINE', '40', 'LANDES', '15', 's', '108']),\n",
       " ('2008', ['AQUITAINE', '47', 'LOT-ET-GARONNE', '20', '3', '299']),\n",
       " ('2008', ['AQUITAINE', '64', 'PYRENEES-ATLANTIQUES', '17', '3', '199']),\n",
       " ('2008', ['AUVERGNE', '3', 'ALLIER', '12', '', '129']),\n",
       " ('2008', ['AUVERGNE', '15', 'CANTAL', '7', '', '77'])]"
      ]
     },
     "execution_count": 15,
     "metadata": {},
     "output_type": "execute_result"
    }
   ],
   "source": [
    "rddkey = rdd.map(lambda x: (x[0], x[1:7]))\n",
    "rddkey.take(10)"
   ]
  },
  {
   "cell_type": "code",
   "execution_count": 16,
   "metadata": {
    "collapsed": false,
    "deletable": true,
    "editable": true
   },
   "outputs": [
    {
     "data": {
      "text/plain": [
       "defaultdict(int,\n",
       "            {'2008': 100, '2009': 100, '2010': 100, '2011': 100, 'Annee': 1})"
      ]
     },
     "execution_count": 16,
     "metadata": {},
     "output_type": "execute_result"
    }
   ],
   "source": [
    "rddkey.countByKey()"
   ]
  },
  {
   "cell_type": "markdown",
   "metadata": {
    "deletable": true,
    "editable": true
   },
   "source": [
    "# Wordcount example"
   ]
  },
  {
   "cell_type": "code",
   "execution_count": 17,
   "metadata": {
    "collapsed": false,
    "deletable": true,
    "editable": true
   },
   "outputs": [],
   "source": [
    "# Read from hdfs \n",
    "jsonFile = sc.textFile(\"hdfs://cluster/user/hdfs/test/people.json\")"
   ]
  },
  {
   "cell_type": "code",
   "execution_count": 18,
   "metadata": {
    "collapsed": false,
    "deletable": true,
    "editable": true
   },
   "outputs": [],
   "source": [
    "wordcounts = jsonFile.map( lambda x: x.replace(':',' ').replace('{',' ').replace('}',' ').replace(',',' ') \\\n",
    "        .replace('\"',' ').replace(',',' ').lower()) \\\n",
    "        .flatMap(lambda x: x.split()) \\\n",
    "        .map(lambda x: (x, 1)) \\\n",
    "        .reduceByKey(lambda x,y:x+y) \\\n",
    "        .map(lambda x:(x[1],x[0])) \\\n",
    "        .sortByKey(False) "
   ]
  },
  {
   "cell_type": "code",
   "execution_count": 19,
   "metadata": {
    "collapsed": false,
    "deletable": true,
    "editable": true
   },
   "outputs": [
    {
     "data": {
      "text/plain": [
       "[(3, 'name'),\n",
       " (2, 'age'),\n",
       " (1, 'michael'),\n",
       " (1, 'justin'),\n",
       " (1, 'andy'),\n",
       " (1, '19'),\n",
       " (1, '30')]"
      ]
     },
     "execution_count": 19,
     "metadata": {},
     "output_type": "execute_result"
    }
   ],
   "source": [
    "wordcounts.take(10)"
   ]
  },
  {
   "cell_type": "markdown",
   "metadata": {
    "deletable": true,
    "editable": true
   },
   "source": [
    "# Dictionnaries"
   ]
  },
  {
   "cell_type": "code",
   "execution_count": 21,
   "metadata": {
    "collapsed": true,
    "deletable": true,
    "editable": true
   },
   "outputs": [],
   "source": [
    "### Rdd as dictionnary?\n",
    "rdddict = jsonFile.map(lambda row : AttributeDict(json.loads(row)))"
   ]
  },
  {
   "cell_type": "code",
   "execution_count": null,
   "metadata": {
    "collapsed": false,
    "deletable": true,
    "editable": true
   },
   "outputs": [],
   "source": []
  }
 ],
 "metadata": {
  "kernelspec": {
   "display_name": "Python 3",
   "language": "python",
   "name": "python3"
  },
  "language_info": {
   "codemirror_mode": {
    "name": "ipython",
    "version": 3
   },
   "file_extension": ".py",
   "mimetype": "text/x-python",
   "name": "python",
   "nbconvert_exporter": "python",
   "pygments_lexer": "ipython3",
   "version": "3.5.2"
  }
 },
 "nbformat": 4,
 "nbformat_minor": 2
}
